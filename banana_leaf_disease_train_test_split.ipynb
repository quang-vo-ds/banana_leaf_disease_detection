{
  "nbformat": 4,
  "nbformat_minor": 0,
  "metadata": {
    "colab": {
      "provenance": [],
      "authorship_tag": "ABX9TyN8AA5MetW0kzEgBm7bOhNK",
      "include_colab_link": true
    },
    "kernelspec": {
      "name": "python3",
      "display_name": "Python 3"
    },
    "language_info": {
      "name": "python"
    }
  },
  "cells": [
    {
      "cell_type": "markdown",
      "metadata": {
        "id": "view-in-github",
        "colab_type": "text"
      },
      "source": [
        "<a href=\"https://colab.research.google.com/github/quang-vo-ds/banana_leaf_disease_detection/blob/main/banana_leaf_disease_train_test_split.ipynb\" target=\"_parent\"><img src=\"https://colab.research.google.com/assets/colab-badge.svg\" alt=\"Open In Colab\"/></a>"
      ]
    },
    {
      "cell_type": "markdown",
      "source": [
        "## Initial Setup"
      ],
      "metadata": {
        "id": "al4bWPidA9NK"
      }
    },
    {
      "cell_type": "code",
      "execution_count": null,
      "metadata": {
        "id": "lcEj1SUHw7En",
        "colab": {
          "base_uri": "https://localhost:8080/"
        },
        "outputId": "4ca9ee94-a0d5-41f1-bb9d-d20ad007796f"
      },
      "outputs": [
        {
          "output_type": "stream",
          "name": "stdout",
          "text": [
            "Drive already mounted at /content/drive; to attempt to forcibly remount, call drive.mount(\"/content/drive\", force_remount=True).\n",
            "/content/drive/MyDrive/Vin_ML_Course/Final_Project\n"
          ]
        }
      ],
      "source": [
        "import os\n",
        "import glob\n",
        "import pickle\n",
        "import numpy as np\n",
        "import pandas as pd\n",
        "import csv\n",
        "\n",
        "from google.colab import drive\n",
        "drive.mount('/content/drive')\n",
        "%cd /content/drive/MyDrive/Vin_ML_Course/Final_Project\n",
        "root_dir = os.getcwd()\n",
        "save_data_dir = os.path.join(root_dir, \"output/processed_data\")\n",
        "save_model_dir = os.path.join(root_dir, \"output/checkpoints\")"
      ]
    },
    {
      "cell_type": "markdown",
      "source": [
        "## Create CSV Data"
      ],
      "metadata": {
        "id": "wpzQcgjvBXIt"
      }
    },
    {
      "cell_type": "code",
      "source": [
        "class_int_to_name = {\n",
        "    0: \"healthy\",\n",
        "    1: \"pestalotiopsis\",\n",
        "    2: \"sigatoka\",\n",
        "    3: \"cordana\"\n",
        "}"
      ],
      "metadata": {
        "id": "zaCUZonhD_9c"
      },
      "execution_count": null,
      "outputs": []
    },
    {
      "cell_type": "code",
      "source": [
        "df = {'id': [], 'label': [], 'label_name':[], 'path': []}\n",
        "for k, v in class_int_to_name.items():\n",
        "    class_path = os.path.join(root_dir, \"data/raw\", v)\n",
        "    for f in glob.glob(class_path + '/*'):\n",
        "        f_name = f[f.rfind(\"/\")+1:]\n",
        "\n",
        "        # id and class\n",
        "        df['id'].append(v + f_name)\n",
        "        df['label'].append(k)\n",
        "        df['label_name'].append(v)\n",
        "        df['path'].append(f)\n",
        "\n",
        "df = pd.DataFrame(df)\n",
        "df = df.dropna()\n",
        "print(df.shape)\n",
        "df"
      ],
      "metadata": {
        "colab": {
          "base_uri": "https://localhost:8080/",
          "height": 441
        },
        "id": "Hv34cCOrE2ZA",
        "outputId": "ff0f0d28-3656-4322-8d45-356bf5fd6da2"
      },
      "execution_count": null,
      "outputs": [
        {
          "output_type": "stream",
          "name": "stdout",
          "text": [
            "(937, 4)\n"
          ]
        },
        {
          "output_type": "execute_result",
          "data": {
            "text/plain": [
              "                  id  label label_name  \\\n",
              "0    healthy119.jpeg      0    healthy   \n",
              "1    healthy104.jpeg      0    healthy   \n",
              "2      healthy0.jpeg      0    healthy   \n",
              "3     healthy66.jpeg      0    healthy   \n",
              "4    healthy110.jpeg      0    healthy   \n",
              "..               ...    ...        ...   \n",
              "932  cordana130.jpeg      3    cordana   \n",
              "933  cordana126.jpeg      3    cordana   \n",
              "934   cordana87.jpeg      3    cordana   \n",
              "935   cordana91.jpeg      3    cordana   \n",
              "936   cordana68.jpeg      3    cordana   \n",
              "\n",
              "                                                  path  \n",
              "0    /content/drive/MyDrive/Vin_ML_Course/Final_Pro...  \n",
              "1    /content/drive/MyDrive/Vin_ML_Course/Final_Pro...  \n",
              "2    /content/drive/MyDrive/Vin_ML_Course/Final_Pro...  \n",
              "3    /content/drive/MyDrive/Vin_ML_Course/Final_Pro...  \n",
              "4    /content/drive/MyDrive/Vin_ML_Course/Final_Pro...  \n",
              "..                                                 ...  \n",
              "932  /content/drive/MyDrive/Vin_ML_Course/Final_Pro...  \n",
              "933  /content/drive/MyDrive/Vin_ML_Course/Final_Pro...  \n",
              "934  /content/drive/MyDrive/Vin_ML_Course/Final_Pro...  \n",
              "935  /content/drive/MyDrive/Vin_ML_Course/Final_Pro...  \n",
              "936  /content/drive/MyDrive/Vin_ML_Course/Final_Pro...  \n",
              "\n",
              "[937 rows x 4 columns]"
            ],
            "text/html": [
              "\n",
              "  <div id=\"df-0c4d3f67-a868-443d-9107-e3b66d0e0baa\" class=\"colab-df-container\">\n",
              "    <div>\n",
              "<style scoped>\n",
              "    .dataframe tbody tr th:only-of-type {\n",
              "        vertical-align: middle;\n",
              "    }\n",
              "\n",
              "    .dataframe tbody tr th {\n",
              "        vertical-align: top;\n",
              "    }\n",
              "\n",
              "    .dataframe thead th {\n",
              "        text-align: right;\n",
              "    }\n",
              "</style>\n",
              "<table border=\"1\" class=\"dataframe\">\n",
              "  <thead>\n",
              "    <tr style=\"text-align: right;\">\n",
              "      <th></th>\n",
              "      <th>id</th>\n",
              "      <th>label</th>\n",
              "      <th>label_name</th>\n",
              "      <th>path</th>\n",
              "    </tr>\n",
              "  </thead>\n",
              "  <tbody>\n",
              "    <tr>\n",
              "      <th>0</th>\n",
              "      <td>healthy119.jpeg</td>\n",
              "      <td>0</td>\n",
              "      <td>healthy</td>\n",
              "      <td>/content/drive/MyDrive/Vin_ML_Course/Final_Pro...</td>\n",
              "    </tr>\n",
              "    <tr>\n",
              "      <th>1</th>\n",
              "      <td>healthy104.jpeg</td>\n",
              "      <td>0</td>\n",
              "      <td>healthy</td>\n",
              "      <td>/content/drive/MyDrive/Vin_ML_Course/Final_Pro...</td>\n",
              "    </tr>\n",
              "    <tr>\n",
              "      <th>2</th>\n",
              "      <td>healthy0.jpeg</td>\n",
              "      <td>0</td>\n",
              "      <td>healthy</td>\n",
              "      <td>/content/drive/MyDrive/Vin_ML_Course/Final_Pro...</td>\n",
              "    </tr>\n",
              "    <tr>\n",
              "      <th>3</th>\n",
              "      <td>healthy66.jpeg</td>\n",
              "      <td>0</td>\n",
              "      <td>healthy</td>\n",
              "      <td>/content/drive/MyDrive/Vin_ML_Course/Final_Pro...</td>\n",
              "    </tr>\n",
              "    <tr>\n",
              "      <th>4</th>\n",
              "      <td>healthy110.jpeg</td>\n",
              "      <td>0</td>\n",
              "      <td>healthy</td>\n",
              "      <td>/content/drive/MyDrive/Vin_ML_Course/Final_Pro...</td>\n",
              "    </tr>\n",
              "    <tr>\n",
              "      <th>...</th>\n",
              "      <td>...</td>\n",
              "      <td>...</td>\n",
              "      <td>...</td>\n",
              "      <td>...</td>\n",
              "    </tr>\n",
              "    <tr>\n",
              "      <th>932</th>\n",
              "      <td>cordana130.jpeg</td>\n",
              "      <td>3</td>\n",
              "      <td>cordana</td>\n",
              "      <td>/content/drive/MyDrive/Vin_ML_Course/Final_Pro...</td>\n",
              "    </tr>\n",
              "    <tr>\n",
              "      <th>933</th>\n",
              "      <td>cordana126.jpeg</td>\n",
              "      <td>3</td>\n",
              "      <td>cordana</td>\n",
              "      <td>/content/drive/MyDrive/Vin_ML_Course/Final_Pro...</td>\n",
              "    </tr>\n",
              "    <tr>\n",
              "      <th>934</th>\n",
              "      <td>cordana87.jpeg</td>\n",
              "      <td>3</td>\n",
              "      <td>cordana</td>\n",
              "      <td>/content/drive/MyDrive/Vin_ML_Course/Final_Pro...</td>\n",
              "    </tr>\n",
              "    <tr>\n",
              "      <th>935</th>\n",
              "      <td>cordana91.jpeg</td>\n",
              "      <td>3</td>\n",
              "      <td>cordana</td>\n",
              "      <td>/content/drive/MyDrive/Vin_ML_Course/Final_Pro...</td>\n",
              "    </tr>\n",
              "    <tr>\n",
              "      <th>936</th>\n",
              "      <td>cordana68.jpeg</td>\n",
              "      <td>3</td>\n",
              "      <td>cordana</td>\n",
              "      <td>/content/drive/MyDrive/Vin_ML_Course/Final_Pro...</td>\n",
              "    </tr>\n",
              "  </tbody>\n",
              "</table>\n",
              "<p>937 rows × 4 columns</p>\n",
              "</div>\n",
              "    <div class=\"colab-df-buttons\">\n",
              "\n",
              "  <div class=\"colab-df-container\">\n",
              "    <button class=\"colab-df-convert\" onclick=\"convertToInteractive('df-0c4d3f67-a868-443d-9107-e3b66d0e0baa')\"\n",
              "            title=\"Convert this dataframe to an interactive table.\"\n",
              "            style=\"display:none;\">\n",
              "\n",
              "  <svg xmlns=\"http://www.w3.org/2000/svg\" height=\"24px\" viewBox=\"0 -960 960 960\">\n",
              "    <path d=\"M120-120v-720h720v720H120Zm60-500h600v-160H180v160Zm220 220h160v-160H400v160Zm0 220h160v-160H400v160ZM180-400h160v-160H180v160Zm440 0h160v-160H620v160ZM180-180h160v-160H180v160Zm440 0h160v-160H620v160Z\"/>\n",
              "  </svg>\n",
              "    </button>\n",
              "\n",
              "  <style>\n",
              "    .colab-df-container {\n",
              "      display:flex;\n",
              "      gap: 12px;\n",
              "    }\n",
              "\n",
              "    .colab-df-convert {\n",
              "      background-color: #E8F0FE;\n",
              "      border: none;\n",
              "      border-radius: 50%;\n",
              "      cursor: pointer;\n",
              "      display: none;\n",
              "      fill: #1967D2;\n",
              "      height: 32px;\n",
              "      padding: 0 0 0 0;\n",
              "      width: 32px;\n",
              "    }\n",
              "\n",
              "    .colab-df-convert:hover {\n",
              "      background-color: #E2EBFA;\n",
              "      box-shadow: 0px 1px 2px rgba(60, 64, 67, 0.3), 0px 1px 3px 1px rgba(60, 64, 67, 0.15);\n",
              "      fill: #174EA6;\n",
              "    }\n",
              "\n",
              "    .colab-df-buttons div {\n",
              "      margin-bottom: 4px;\n",
              "    }\n",
              "\n",
              "    [theme=dark] .colab-df-convert {\n",
              "      background-color: #3B4455;\n",
              "      fill: #D2E3FC;\n",
              "    }\n",
              "\n",
              "    [theme=dark] .colab-df-convert:hover {\n",
              "      background-color: #434B5C;\n",
              "      box-shadow: 0px 1px 3px 1px rgba(0, 0, 0, 0.15);\n",
              "      filter: drop-shadow(0px 1px 2px rgba(0, 0, 0, 0.3));\n",
              "      fill: #FFFFFF;\n",
              "    }\n",
              "  </style>\n",
              "\n",
              "    <script>\n",
              "      const buttonEl =\n",
              "        document.querySelector('#df-0c4d3f67-a868-443d-9107-e3b66d0e0baa button.colab-df-convert');\n",
              "      buttonEl.style.display =\n",
              "        google.colab.kernel.accessAllowed ? 'block' : 'none';\n",
              "\n",
              "      async function convertToInteractive(key) {\n",
              "        const element = document.querySelector('#df-0c4d3f67-a868-443d-9107-e3b66d0e0baa');\n",
              "        const dataTable =\n",
              "          await google.colab.kernel.invokeFunction('convertToInteractive',\n",
              "                                                    [key], {});\n",
              "        if (!dataTable) return;\n",
              "\n",
              "        const docLinkHtml = 'Like what you see? Visit the ' +\n",
              "          '<a target=\"_blank\" href=https://colab.research.google.com/notebooks/data_table.ipynb>data table notebook</a>'\n",
              "          + ' to learn more about interactive tables.';\n",
              "        element.innerHTML = '';\n",
              "        dataTable['output_type'] = 'display_data';\n",
              "        await google.colab.output.renderOutput(dataTable, element);\n",
              "        const docLink = document.createElement('div');\n",
              "        docLink.innerHTML = docLinkHtml;\n",
              "        element.appendChild(docLink);\n",
              "      }\n",
              "    </script>\n",
              "  </div>\n",
              "\n",
              "\n",
              "<div id=\"df-8355d018-7237-4b66-9373-f650aee19e03\">\n",
              "  <button class=\"colab-df-quickchart\" onclick=\"quickchart('df-8355d018-7237-4b66-9373-f650aee19e03')\"\n",
              "            title=\"Suggest charts.\"\n",
              "            style=\"display:none;\">\n",
              "\n",
              "<svg xmlns=\"http://www.w3.org/2000/svg\" height=\"24px\"viewBox=\"0 0 24 24\"\n",
              "     width=\"24px\">\n",
              "    <g>\n",
              "        <path d=\"M19 3H5c-1.1 0-2 .9-2 2v14c0 1.1.9 2 2 2h14c1.1 0 2-.9 2-2V5c0-1.1-.9-2-2-2zM9 17H7v-7h2v7zm4 0h-2V7h2v10zm4 0h-2v-4h2v4z\"/>\n",
              "    </g>\n",
              "</svg>\n",
              "  </button>\n",
              "\n",
              "<style>\n",
              "  .colab-df-quickchart {\n",
              "    background-color: #E8F0FE;\n",
              "    border: none;\n",
              "    border-radius: 50%;\n",
              "    cursor: pointer;\n",
              "    display: none;\n",
              "    fill: #1967D2;\n",
              "    height: 32px;\n",
              "    padding: 0 0 0 0;\n",
              "    width: 32px;\n",
              "  }\n",
              "\n",
              "  .colab-df-quickchart:hover {\n",
              "    background-color: #E2EBFA;\n",
              "    box-shadow: 0px 1px 2px rgba(60, 64, 67, 0.3), 0px 1px 3px 1px rgba(60, 64, 67, 0.15);\n",
              "    fill: #174EA6;\n",
              "  }\n",
              "\n",
              "  [theme=dark] .colab-df-quickchart {\n",
              "    background-color: #3B4455;\n",
              "    fill: #D2E3FC;\n",
              "  }\n",
              "\n",
              "  [theme=dark] .colab-df-quickchart:hover {\n",
              "    background-color: #434B5C;\n",
              "    box-shadow: 0px 1px 3px 1px rgba(0, 0, 0, 0.15);\n",
              "    filter: drop-shadow(0px 1px 2px rgba(0, 0, 0, 0.3));\n",
              "    fill: #FFFFFF;\n",
              "  }\n",
              "</style>\n",
              "\n",
              "  <script>\n",
              "    async function quickchart(key) {\n",
              "      const charts = await google.colab.kernel.invokeFunction(\n",
              "          'suggestCharts', [key], {});\n",
              "    }\n",
              "    (() => {\n",
              "      let quickchartButtonEl =\n",
              "        document.querySelector('#df-8355d018-7237-4b66-9373-f650aee19e03 button');\n",
              "      quickchartButtonEl.style.display =\n",
              "        google.colab.kernel.accessAllowed ? 'block' : 'none';\n",
              "    })();\n",
              "  </script>\n",
              "</div>\n",
              "    </div>\n",
              "  </div>\n"
            ]
          },
          "metadata": {},
          "execution_count": 50
        }
      ]
    },
    {
      "cell_type": "code",
      "source": [
        "# Train test split\n",
        "from sklearn.model_selection import train_test_split\n",
        "\n",
        "np.random.seed(42)\n",
        "\n",
        "train, test = train_test_split(df, test_size=0.1)\n",
        "print(\"Train shape: \", train.shape)\n",
        "print(\"Test shape: \", test.shape)"
      ],
      "metadata": {
        "colab": {
          "base_uri": "https://localhost:8080/"
        },
        "id": "akhiMj-Lg7_f",
        "outputId": "18b509c2-c224-4ce4-de37-14cfda4d9184"
      },
      "execution_count": null,
      "outputs": [
        {
          "output_type": "stream",
          "name": "stdout",
          "text": [
            "Train shape:  (843, 4)\n",
            "Test shape:  (94, 4)\n"
          ]
        }
      ]
    },
    {
      "cell_type": "markdown",
      "source": [
        "## Move images to train test folders"
      ],
      "metadata": {
        "id": "vRWESgydT4e4"
      }
    },
    {
      "cell_type": "code",
      "source": [
        "import shutil\n",
        "# Train\n",
        "train_path = os.path.join(root_dir, \"data/train_test/train\")\n",
        "for _, row in train.iterrows():\n",
        "    shutil.copy(row['path'], os.path.join(train_path, row['id']))\n",
        "train[['id', 'label', 'label_name']].to_csv(os.path.join(train_path, \"train.csv\"), index=False)\n",
        "\n",
        "\n",
        "# Test\n",
        "test_path = os.path.join(root_dir, \"data/train_test/test\")\n",
        "for _, row in test.iterrows():\n",
        "    shutil.copy(row['path'], os.path.join(test_path, row['id']))\n",
        "test[['id', 'label', 'label_name']].to_csv(os.path.join(test_path,\"test.csv\"), index=False)"
      ],
      "metadata": {
        "id": "hA13lH-gT3wg"
      },
      "execution_count": null,
      "outputs": []
    },
    {
      "cell_type": "code",
      "source": [
        "s = train['label'].value_counts()\n",
        "s/s.sum()"
      ],
      "metadata": {
        "colab": {
          "base_uri": "https://localhost:8080/"
        },
        "id": "99h93dD3hIuO",
        "outputId": "5ed0531a-18d3-4f67-eba0-474159cc6614"
      },
      "execution_count": 65,
      "outputs": [
        {
          "output_type": "execute_result",
          "data": {
            "text/plain": [
              "2    0.502966\n",
              "1    0.181495\n",
              "3    0.175563\n",
              "0    0.139976\n",
              "Name: label, dtype: float64"
            ]
          },
          "metadata": {},
          "execution_count": 65
        }
      ]
    },
    {
      "cell_type": "code",
      "source": [
        "s = test['label'].value_counts()\n",
        "s/s.sum()"
      ],
      "metadata": {
        "colab": {
          "base_uri": "https://localhost:8080/"
        },
        "id": "hs7TuxV5hpS7",
        "outputId": "1af4e98e-0b0e-4061-e3b4-fe1c5657cfc8"
      },
      "execution_count": 66,
      "outputs": [
        {
          "output_type": "execute_result",
          "data": {
            "text/plain": [
              "2    0.521277\n",
              "1    0.212766\n",
              "3    0.148936\n",
              "0    0.117021\n",
              "Name: label, dtype: float64"
            ]
          },
          "metadata": {},
          "execution_count": 66
        }
      ]
    }
  ]
}