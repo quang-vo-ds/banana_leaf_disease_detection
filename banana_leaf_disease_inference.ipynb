{
  "nbformat": 4,
  "nbformat_minor": 0,
  "metadata": {
    "colab": {
      "provenance": [],
      "toc_visible": true,
      "gpuType": "T4",
      "authorship_tag": "ABX9TyNlpuxCrnnTW+47+eEFRAql",
      "include_colab_link": true
    },
    "kernelspec": {
      "name": "python3",
      "display_name": "Python 3"
    },
    "language_info": {
      "name": "python"
    },
    "accelerator": "GPU"
  },
  "cells": [
    {
      "cell_type": "markdown",
      "metadata": {
        "id": "view-in-github",
        "colab_type": "text"
      },
      "source": [
        "<a href=\"https://colab.research.google.com/github/quang-vo-ds/banana_leaf_disease_detection/blob/main/banana_leaf_disease_inference.ipynb\" target=\"_parent\"><img src=\"https://colab.research.google.com/assets/colab-badge.svg\" alt=\"Open In Colab\"/></a>"
      ]
    },
    {
      "cell_type": "markdown",
      "source": [
        "## Initial Setup"
      ],
      "metadata": {
        "id": "jvrB2Fvc15t4"
      }
    },
    {
      "cell_type": "code",
      "execution_count": 1,
      "metadata": {
        "id": "W-C-d47MtNkR",
        "colab": {
          "base_uri": "https://localhost:8080/"
        },
        "outputId": "6c523379-8376-4e6a-96e6-794de0becc8a"
      },
      "outputs": [
        {
          "output_type": "stream",
          "name": "stdout",
          "text": [
            "\u001b[2K     \u001b[90m━━━━━━━━━━━━━━━━━━━━━━━━━━━━━━━━━━━━━━━━\u001b[0m \u001b[32m1.8/1.8 MB\u001b[0m \u001b[31m10.5 MB/s\u001b[0m eta \u001b[36m0:00:00\u001b[0m\n",
            "\u001b[2K     \u001b[90m━━━━━━━━━━━━━━━━━━━━━━━━━━━━━━━━━━━━━━━━\u001b[0m \u001b[32m2.2/2.2 MB\u001b[0m \u001b[31m8.9 MB/s\u001b[0m eta \u001b[36m0:00:00\u001b[0m\n",
            "\u001b[2K     \u001b[90m━━━━━━━━━━━━━━━━━━━━━━━━━━━━━━━━━━━━━━\u001b[0m \u001b[32m268.8/268.8 kB\u001b[0m \u001b[31m12.8 MB/s\u001b[0m eta \u001b[36m0:00:00\u001b[0m\n",
            "\u001b[2K     \u001b[90m━━━━━━━━━━━━━━━━━━━━━━━━━━━━━━━━━━━━━━━━\u001b[0m \u001b[32m1.3/1.3 MB\u001b[0m \u001b[31m18.5 MB/s\u001b[0m eta \u001b[36m0:00:00\u001b[0m\n",
            "\u001b[2K     \u001b[90m━━━━━━━━━━━━━━━━━━━━━━━━━━━━━━━━━━━━━━━\u001b[0m \u001b[32m446.7/446.7 kB\u001b[0m \u001b[31m3.0 MB/s\u001b[0m eta \u001b[36m0:00:00\u001b[0m\n",
            "\u001b[2K     \u001b[90m━━━━━━━━━━━━━━━━━━━━━━━━━━━━━━━━━━━━━━\u001b[0m \u001b[32m244.2/244.2 kB\u001b[0m \u001b[31m10.5 MB/s\u001b[0m eta \u001b[36m0:00:00\u001b[0m\n",
            "\u001b[2K     \u001b[90m━━━━━━━━━━━━━━━━━━━━━━━━━━━━━━━━━━━━━━━\u001b[0m \u001b[32m101.6/101.6 kB\u001b[0m \u001b[31m9.4 MB/s\u001b[0m eta \u001b[36m0:00:00\u001b[0m\n",
            "\u001b[?25h"
          ]
        }
      ],
      "source": [
        "!pip -q install pydicom\n",
        "!pip -q install timm\n",
        "!pip -q install catalyst"
      ]
    },
    {
      "cell_type": "code",
      "source": [
        "from glob import glob\n",
        "from sklearn.model_selection import GroupKFold, StratifiedKFold\n",
        "import cv2\n",
        "from skimage import io\n",
        "import torch\n",
        "from torch import nn\n",
        "import os\n",
        "from datetime import datetime\n",
        "import time\n",
        "import random\n",
        "import cv2\n",
        "import torchvision\n",
        "from torchvision import transforms\n",
        "import pandas as pd\n",
        "import numpy as np\n",
        "from tqdm import tqdm\n",
        "\n",
        "import matplotlib.pyplot as plt\n",
        "from torch.utils.data import Dataset,DataLoader\n",
        "from torch.utils.data.sampler import SequentialSampler, RandomSampler\n",
        "from torch.cuda.amp import autocast, GradScaler\n",
        "from torch.nn.modules.loss import _WeightedLoss\n",
        "import torch.nn.functional as F\n",
        "\n",
        "import sklearn\n",
        "import warnings\n",
        "import joblib\n",
        "from sklearn.metrics import roc_auc_score, log_loss\n",
        "from sklearn import metrics\n",
        "import warnings\n",
        "import cv2\n",
        "import pydicom\n",
        "import timm\n",
        "#from efficientnet_pytorch import EfficientNet\n",
        "from scipy.ndimage import zoom\n",
        "import pickle"
      ],
      "metadata": {
        "id": "EAbtVx781p3B"
      },
      "execution_count": 2,
      "outputs": []
    },
    {
      "cell_type": "code",
      "source": [
        "from google.colab import drive\n",
        "drive.mount('/content/drive')\n",
        "%cd /content/drive/MyDrive/Vin_ML_Course/Final_Project\n",
        "root_dir = os.getcwd()"
      ],
      "metadata": {
        "colab": {
          "base_uri": "https://localhost:8080/"
        },
        "id": "JlPwR1U-1t6X",
        "outputId": "a7e83ede-ad06-4091-c5ac-82cba93932aa"
      },
      "execution_count": 3,
      "outputs": [
        {
          "output_type": "stream",
          "name": "stdout",
          "text": [
            "Mounted at /content/drive\n",
            "/content/drive/MyDrive/Vin_ML_Course/Final_Project\n"
          ]
        }
      ]
    },
    {
      "cell_type": "markdown",
      "source": [
        "## Global Config"
      ],
      "metadata": {
        "id": "drCHDmX3KFFs"
      }
    },
    {
      "cell_type": "code",
      "source": [
        "CFG = {\n",
        "    'fold_num': 5,\n",
        "    'seed': 719,\n",
        "    'model_arch': 'tf_efficientnet_b4_ns',\n",
        "    'img_size': 512,\n",
        "    'epochs': 10,\n",
        "    'train_bs': 32,\n",
        "    'valid_bs': 32,\n",
        "    'lr': 1e-4,\n",
        "    'num_workers': 4,\n",
        "    'accum_iter': 1, # suppoprt to do batch accumulation for backprop with effectively larger batch size\n",
        "    'verbose_step': 1,\n",
        "    'device': 'cuda:0',\n",
        "    'tta': 3,\n",
        "    'used_epochs': [6,7,8,9],\n",
        "    'weights': [1,1,1,1]\n",
        "}"
      ],
      "metadata": {
        "id": "Uo3nMHa3_B12"
      },
      "execution_count": 4,
      "outputs": []
    },
    {
      "cell_type": "markdown",
      "source": [
        "## Input"
      ],
      "metadata": {
        "id": "4v88BTlIV7hi"
      }
    },
    {
      "cell_type": "code",
      "source": [
        "test_dir = os.path.join(root_dir, \"test\")\n",
        "save_data_dir = os.path.join(root_dir, \"output/processed_data\")\n",
        "save_model_dir = os.path.join(root_dir, \"output/checkpoints\")\n",
        "with open(os.path.join(save_data_dir, \"class_int_to_name.dict\"), 'rb') as f:\n",
        "    class_int_to_name = pickle.load(f)"
      ],
      "metadata": {
        "id": "xpklRSgA_Ifx"
      },
      "execution_count": 5,
      "outputs": []
    },
    {
      "cell_type": "code",
      "source": [
        "test = {'id': [], 'path': []}\n",
        "for f in glob(test_dir + '/*'):\n",
        "    f_name = f[f.rfind(\"/\")+1:]\n",
        "\n",
        "    # id and class\n",
        "    test['id'].append(f_name)\n",
        "    test['path'].append(f)\n",
        "\n",
        "test = pd.DataFrame(test)\n",
        "test = test.dropna()\n",
        "test.head()"
      ],
      "metadata": {
        "colab": {
          "base_uri": "https://localhost:8080/",
          "height": 206
        },
        "id": "T-MveOnJU-7y",
        "outputId": "0c61a7d4-dc52-4d08-d450-5c22c38999f2"
      },
      "execution_count": 6,
      "outputs": [
        {
          "output_type": "execute_result",
          "data": {
            "text/plain": [
              "       id                                               path\n",
              "0  1.jpeg  /content/drive/MyDrive/Vin_ML_Course/Final_Pro...\n",
              "1  2.jpeg  /content/drive/MyDrive/Vin_ML_Course/Final_Pro...\n",
              "2   3.png  /content/drive/MyDrive/Vin_ML_Course/Final_Pro...\n",
              "3   4.jpg  /content/drive/MyDrive/Vin_ML_Course/Final_Pro...\n",
              "4   5.jpg  /content/drive/MyDrive/Vin_ML_Course/Final_Pro..."
            ],
            "text/html": [
              "\n",
              "\n",
              "  <div id=\"df-06bda3e0-f3ac-471b-85a1-dfc3c1f06ccb\">\n",
              "    <div class=\"colab-df-container\">\n",
              "      <div>\n",
              "<style scoped>\n",
              "    .dataframe tbody tr th:only-of-type {\n",
              "        vertical-align: middle;\n",
              "    }\n",
              "\n",
              "    .dataframe tbody tr th {\n",
              "        vertical-align: top;\n",
              "    }\n",
              "\n",
              "    .dataframe thead th {\n",
              "        text-align: right;\n",
              "    }\n",
              "</style>\n",
              "<table border=\"1\" class=\"dataframe\">\n",
              "  <thead>\n",
              "    <tr style=\"text-align: right;\">\n",
              "      <th></th>\n",
              "      <th>id</th>\n",
              "      <th>path</th>\n",
              "    </tr>\n",
              "  </thead>\n",
              "  <tbody>\n",
              "    <tr>\n",
              "      <th>0</th>\n",
              "      <td>1.jpeg</td>\n",
              "      <td>/content/drive/MyDrive/Vin_ML_Course/Final_Pro...</td>\n",
              "    </tr>\n",
              "    <tr>\n",
              "      <th>1</th>\n",
              "      <td>2.jpeg</td>\n",
              "      <td>/content/drive/MyDrive/Vin_ML_Course/Final_Pro...</td>\n",
              "    </tr>\n",
              "    <tr>\n",
              "      <th>2</th>\n",
              "      <td>3.png</td>\n",
              "      <td>/content/drive/MyDrive/Vin_ML_Course/Final_Pro...</td>\n",
              "    </tr>\n",
              "    <tr>\n",
              "      <th>3</th>\n",
              "      <td>4.jpg</td>\n",
              "      <td>/content/drive/MyDrive/Vin_ML_Course/Final_Pro...</td>\n",
              "    </tr>\n",
              "    <tr>\n",
              "      <th>4</th>\n",
              "      <td>5.jpg</td>\n",
              "      <td>/content/drive/MyDrive/Vin_ML_Course/Final_Pro...</td>\n",
              "    </tr>\n",
              "  </tbody>\n",
              "</table>\n",
              "</div>\n",
              "      <button class=\"colab-df-convert\" onclick=\"convertToInteractive('df-06bda3e0-f3ac-471b-85a1-dfc3c1f06ccb')\"\n",
              "              title=\"Convert this dataframe to an interactive table.\"\n",
              "              style=\"display:none;\">\n",
              "\n",
              "  <svg xmlns=\"http://www.w3.org/2000/svg\" height=\"24px\"viewBox=\"0 0 24 24\"\n",
              "       width=\"24px\">\n",
              "    <path d=\"M0 0h24v24H0V0z\" fill=\"none\"/>\n",
              "    <path d=\"M18.56 5.44l.94 2.06.94-2.06 2.06-.94-2.06-.94-.94-2.06-.94 2.06-2.06.94zm-11 1L8.5 8.5l.94-2.06 2.06-.94-2.06-.94L8.5 2.5l-.94 2.06-2.06.94zm10 10l.94 2.06.94-2.06 2.06-.94-2.06-.94-.94-2.06-.94 2.06-2.06.94z\"/><path d=\"M17.41 7.96l-1.37-1.37c-.4-.4-.92-.59-1.43-.59-.52 0-1.04.2-1.43.59L10.3 9.45l-7.72 7.72c-.78.78-.78 2.05 0 2.83L4 21.41c.39.39.9.59 1.41.59.51 0 1.02-.2 1.41-.59l7.78-7.78 2.81-2.81c.8-.78.8-2.07 0-2.86zM5.41 20L4 18.59l7.72-7.72 1.47 1.35L5.41 20z\"/>\n",
              "  </svg>\n",
              "      </button>\n",
              "\n",
              "\n",
              "\n",
              "    <div id=\"df-41ea0945-4dea-4e2a-93a9-3c7dfe90abcb\">\n",
              "      <button class=\"colab-df-quickchart\" onclick=\"quickchart('df-41ea0945-4dea-4e2a-93a9-3c7dfe90abcb')\"\n",
              "              title=\"Suggest charts.\"\n",
              "              style=\"display:none;\">\n",
              "\n",
              "<svg xmlns=\"http://www.w3.org/2000/svg\" height=\"24px\"viewBox=\"0 0 24 24\"\n",
              "     width=\"24px\">\n",
              "    <g>\n",
              "        <path d=\"M19 3H5c-1.1 0-2 .9-2 2v14c0 1.1.9 2 2 2h14c1.1 0 2-.9 2-2V5c0-1.1-.9-2-2-2zM9 17H7v-7h2v7zm4 0h-2V7h2v10zm4 0h-2v-4h2v4z\"/>\n",
              "    </g>\n",
              "</svg>\n",
              "      </button>\n",
              "    </div>\n",
              "\n",
              "<style>\n",
              "  .colab-df-quickchart {\n",
              "    background-color: #E8F0FE;\n",
              "    border: none;\n",
              "    border-radius: 50%;\n",
              "    cursor: pointer;\n",
              "    display: none;\n",
              "    fill: #1967D2;\n",
              "    height: 32px;\n",
              "    padding: 0 0 0 0;\n",
              "    width: 32px;\n",
              "  }\n",
              "\n",
              "  .colab-df-quickchart:hover {\n",
              "    background-color: #E2EBFA;\n",
              "    box-shadow: 0px 1px 2px rgba(60, 64, 67, 0.3), 0px 1px 3px 1px rgba(60, 64, 67, 0.15);\n",
              "    fill: #174EA6;\n",
              "  }\n",
              "\n",
              "  [theme=dark] .colab-df-quickchart {\n",
              "    background-color: #3B4455;\n",
              "    fill: #D2E3FC;\n",
              "  }\n",
              "\n",
              "  [theme=dark] .colab-df-quickchart:hover {\n",
              "    background-color: #434B5C;\n",
              "    box-shadow: 0px 1px 3px 1px rgba(0, 0, 0, 0.15);\n",
              "    filter: drop-shadow(0px 1px 2px rgba(0, 0, 0, 0.3));\n",
              "    fill: #FFFFFF;\n",
              "  }\n",
              "</style>\n",
              "\n",
              "    <script>\n",
              "      async function quickchart(key) {\n",
              "        const containerElement = document.querySelector('#' + key);\n",
              "        const charts = await google.colab.kernel.invokeFunction(\n",
              "            'suggestCharts', [key], {});\n",
              "      }\n",
              "    </script>\n",
              "\n",
              "      <script>\n",
              "\n",
              "function displayQuickchartButton(domScope) {\n",
              "  let quickchartButtonEl =\n",
              "    domScope.querySelector('#df-41ea0945-4dea-4e2a-93a9-3c7dfe90abcb button.colab-df-quickchart');\n",
              "  quickchartButtonEl.style.display =\n",
              "    google.colab.kernel.accessAllowed ? 'block' : 'none';\n",
              "}\n",
              "\n",
              "        displayQuickchartButton(document);\n",
              "      </script>\n",
              "      <style>\n",
              "    .colab-df-container {\n",
              "      display:flex;\n",
              "      flex-wrap:wrap;\n",
              "      gap: 12px;\n",
              "    }\n",
              "\n",
              "    .colab-df-convert {\n",
              "      background-color: #E8F0FE;\n",
              "      border: none;\n",
              "      border-radius: 50%;\n",
              "      cursor: pointer;\n",
              "      display: none;\n",
              "      fill: #1967D2;\n",
              "      height: 32px;\n",
              "      padding: 0 0 0 0;\n",
              "      width: 32px;\n",
              "    }\n",
              "\n",
              "    .colab-df-convert:hover {\n",
              "      background-color: #E2EBFA;\n",
              "      box-shadow: 0px 1px 2px rgba(60, 64, 67, 0.3), 0px 1px 3px 1px rgba(60, 64, 67, 0.15);\n",
              "      fill: #174EA6;\n",
              "    }\n",
              "\n",
              "    [theme=dark] .colab-df-convert {\n",
              "      background-color: #3B4455;\n",
              "      fill: #D2E3FC;\n",
              "    }\n",
              "\n",
              "    [theme=dark] .colab-df-convert:hover {\n",
              "      background-color: #434B5C;\n",
              "      box-shadow: 0px 1px 3px 1px rgba(0, 0, 0, 0.15);\n",
              "      filter: drop-shadow(0px 1px 2px rgba(0, 0, 0, 0.3));\n",
              "      fill: #FFFFFF;\n",
              "    }\n",
              "  </style>\n",
              "\n",
              "      <script>\n",
              "        const buttonEl =\n",
              "          document.querySelector('#df-06bda3e0-f3ac-471b-85a1-dfc3c1f06ccb button.colab-df-convert');\n",
              "        buttonEl.style.display =\n",
              "          google.colab.kernel.accessAllowed ? 'block' : 'none';\n",
              "\n",
              "        async function convertToInteractive(key) {\n",
              "          const element = document.querySelector('#df-06bda3e0-f3ac-471b-85a1-dfc3c1f06ccb');\n",
              "          const dataTable =\n",
              "            await google.colab.kernel.invokeFunction('convertToInteractive',\n",
              "                                                     [key], {});\n",
              "          if (!dataTable) return;\n",
              "\n",
              "          const docLinkHtml = 'Like what you see? Visit the ' +\n",
              "            '<a target=\"_blank\" href=https://colab.research.google.com/notebooks/data_table.ipynb>data table notebook</a>'\n",
              "            + ' to learn more about interactive tables.';\n",
              "          element.innerHTML = '';\n",
              "          dataTable['output_type'] = 'display_data';\n",
              "          await google.colab.output.renderOutput(dataTable, element);\n",
              "          const docLink = document.createElement('div');\n",
              "          docLink.innerHTML = docLinkHtml;\n",
              "          element.appendChild(docLink);\n",
              "        }\n",
              "      </script>\n",
              "    </div>\n",
              "  </div>\n"
            ]
          },
          "metadata": {},
          "execution_count": 6
        }
      ]
    },
    {
      "cell_type": "markdown",
      "source": [
        "## Global Config"
      ],
      "metadata": {
        "id": "n4nbehP3Oxq-"
      }
    },
    {
      "cell_type": "markdown",
      "source": [
        "## Utils"
      ],
      "metadata": {
        "id": "yEDxOY71_dzW"
      }
    },
    {
      "cell_type": "code",
      "source": [
        "def seed_everything(seed):\n",
        "    random.seed(seed)\n",
        "    os.environ['PYTHONHASHSEED'] = str(seed)\n",
        "    np.random.seed(seed)\n",
        "    torch.manual_seed(seed)\n",
        "    torch.cuda.manual_seed(seed)\n",
        "    torch.backends.cudnn.deterministic = True\n",
        "    torch.backends.cudnn.benchmark = True\n",
        "\n",
        "def get_img(path):\n",
        "    im_bgr = cv2.imread(path)\n",
        "    im_rgb = im_bgr[:, :, ::-1]\n",
        "    #print(im_rgb)\n",
        "    return im_rgb"
      ],
      "metadata": {
        "id": "6r4Eh6sl_e-Q"
      },
      "execution_count": 7,
      "outputs": []
    },
    {
      "cell_type": "markdown",
      "source": [
        "## Dataset"
      ],
      "metadata": {
        "id": "Qp-TDhMd9c0b"
      }
    },
    {
      "cell_type": "code",
      "source": [
        "class BananaDataset(Dataset):\n",
        "    def __init__(self, df,\n",
        "                 transforms=None,\n",
        "                 output_label=True,\n",
        "                 one_hot_label=False,\n",
        "                ):\n",
        "\n",
        "        super().__init__()\n",
        "        self.df = df.copy()\n",
        "        self.transforms = transforms\n",
        "        self.output_label = output_label\n",
        "        self.one_hot_label = one_hot_label\n",
        "\n",
        "        if output_label == True:\n",
        "            self.labels = self.df['label'].values\n",
        "            if one_hot_label is True:\n",
        "                self.labels = np.eye(self.df['label'].max()+1)[self.labels]\n",
        "\n",
        "    def __len__(self):\n",
        "        return self.df.shape[0]\n",
        "\n",
        "    def __getitem__(self, index: int):\n",
        "\n",
        "        # get labels\n",
        "        if self.output_label:\n",
        "            target = self.labels[index]\n",
        "\n",
        "        img_dir = self.df.iloc[index].path\n",
        "        img  = get_img(img_dir)\n",
        "\n",
        "        if self.transforms:\n",
        "            img = self.transforms(image=img)['image']\n",
        "\n",
        "        if self.output_label == True:\n",
        "            return img, target\n",
        "        else:\n",
        "            return img"
      ],
      "metadata": {
        "id": "PRJr4bog8Wkc"
      },
      "execution_count": 8,
      "outputs": []
    },
    {
      "cell_type": "markdown",
      "source": [
        "## Image Augmentation"
      ],
      "metadata": {
        "id": "SWHM5qT3_vF6"
      }
    },
    {
      "cell_type": "code",
      "source": [
        "from albumentations import Normalize, Resize, Compose\n",
        "from albumentations.pytorch import ToTensorV2\n",
        "\n",
        "def get_inference_transforms():\n",
        "    return Compose([\n",
        "        Resize(CFG['img_size'], CFG['img_size']),\n",
        "        Normalize(mean=[0.485, 0.456, 0.406], std=[0.229, 0.224, 0.225], max_pixel_value=255.0, p=1.0),\n",
        "        ToTensorV2(p=1.0),\n",
        "        ], p=1.)"
      ],
      "metadata": {
        "id": "QEJR1gik81Yb"
      },
      "execution_count": 9,
      "outputs": []
    },
    {
      "cell_type": "markdown",
      "source": [
        "## Model"
      ],
      "metadata": {
        "id": "-heWKdRIAEqB"
      }
    },
    {
      "cell_type": "code",
      "source": [
        "class MyImgClassifier(nn.Module):\n",
        "    def __init__(self, model_arch, n_class, pretrained=False):\n",
        "        super().__init__()\n",
        "        self.model = timm.create_model(model_arch, pretrained=pretrained)\n",
        "        n_features = self.model.classifier.in_features\n",
        "        self.model.classifier = nn.Linear(n_features, n_class)\n",
        "        '''\n",
        "        self.model.classifier = nn.Sequential(\n",
        "            nn.Dropout(0.3),\n",
        "            #nn.Linear(n_features, hidden_size,bias=True), nn.ELU(),\n",
        "            nn.Linear(n_features, n_class, bias=True)\n",
        "        )\n",
        "        '''\n",
        "    def forward(self, x):\n",
        "        x = self.model(x)\n",
        "        return x"
      ],
      "metadata": {
        "id": "4rFLzOO29ftc"
      },
      "execution_count": 10,
      "outputs": []
    },
    {
      "cell_type": "markdown",
      "source": [
        "## Main"
      ],
      "metadata": {
        "id": "53wsdx1UAIZ1"
      }
    },
    {
      "cell_type": "code",
      "source": [
        "def inference_one_epoch(model, data_loader, device):\n",
        "    model.eval()\n",
        "\n",
        "    image_preds_all = []\n",
        "\n",
        "    pbar = tqdm(enumerate(data_loader), total=len(data_loader))\n",
        "    for step, (imgs) in pbar:\n",
        "        imgs = imgs.to(device).float()\n",
        "\n",
        "        image_preds = model(imgs)\n",
        "        image_preds_all += [torch.softmax(image_preds, 1).detach().cpu().numpy()]\n",
        "\n",
        "\n",
        "    image_preds_all = np.concatenate(image_preds_all, axis=0)\n",
        "    return image_preds_all"
      ],
      "metadata": {
        "id": "gA23cLom2xzL"
      },
      "execution_count": 11,
      "outputs": []
    },
    {
      "cell_type": "code",
      "source": [
        "if __name__ == '__main__':\n",
        "\n",
        "    seed_everything(CFG['seed'])\n",
        "    tst_preds_all = []\n",
        "\n",
        "    for fold in range(CFG['fold_num']):\n",
        "        print('Inferencing with {} started'.format(fold))\n",
        "        test_ds = BananaDataset(test, transforms=get_inference_transforms(), output_label=False)\n",
        "        tst_loader = torch.utils.data.DataLoader(\n",
        "            test_ds,\n",
        "            batch_size=CFG['valid_bs'],\n",
        "            num_workers=CFG['num_workers'],\n",
        "            shuffle=False,\n",
        "            pin_memory=False,\n",
        "        )\n",
        "\n",
        "        device = torch.device(CFG['device'])\n",
        "        model = MyImgClassifier(CFG['model_arch'], len(class_int_to_name.keys())).to(device)\n",
        "\n",
        "        tst_preds = []\n",
        "\n",
        "        for i, epoch in enumerate(CFG['used_epochs']):\n",
        "            model.load_state_dict(torch.load(os.path.join(save_model_dir,'{}_fold_{}_{}'.format(CFG['model_arch'], fold, epoch))))\n",
        "\n",
        "            with torch.no_grad():\n",
        "                for _ in range(CFG['tta']):\n",
        "                    tst_preds += [CFG['weights'][i]/sum(CFG['weights'])/CFG['tta']*inference_one_epoch(model, tst_loader, device)]\n",
        "\n",
        "        tst_preds_all += [np.mean(tst_preds, axis=0)]\n",
        "\n",
        "        del model\n",
        "        torch.cuda.empty_cache()\n",
        "\n",
        "    tst_preds_all = np.mean(tst_preds_all, axis=0)"
      ],
      "metadata": {
        "colab": {
          "base_uri": "https://localhost:8080/"
        },
        "id": "Fiwy_0Z03e0Z",
        "outputId": "32bfd6f6-ad67-4062-b4e7-ce369577b0b4"
      },
      "execution_count": 20,
      "outputs": [
        {
          "output_type": "stream",
          "name": "stdout",
          "text": [
            "Inferencing with 0 started\n"
          ]
        },
        {
          "output_type": "stream",
          "name": "stderr",
          "text": [
            "/usr/local/lib/python3.10/dist-packages/torch/utils/data/dataloader.py:560: UserWarning: This DataLoader will create 4 worker processes in total. Our suggested max number of worker in current system is 2, which is smaller than what this DataLoader is going to create. Please be aware that excessive worker creation might get DataLoader running slow or even freeze, lower the worker number to avoid potential slowness/freeze if necessary.\n",
            "  warnings.warn(_create_warning_msg(\n",
            "/usr/local/lib/python3.10/dist-packages/timm/models/_factory.py:114: UserWarning: Mapping deprecated model name tf_efficientnet_b4_ns to current tf_efficientnet_b4.ns_jft_in1k.\n",
            "  model = create_fn(\n",
            "100%|██████████| 1/1 [00:00<00:00,  2.25it/s]\n",
            "100%|██████████| 1/1 [00:00<00:00,  2.02it/s]\n",
            "100%|██████████| 1/1 [00:00<00:00,  2.56it/s]\n",
            "100%|██████████| 1/1 [00:00<00:00,  2.53it/s]\n",
            "100%|██████████| 1/1 [00:00<00:00,  2.62it/s]\n",
            "100%|██████████| 1/1 [00:00<00:00,  2.53it/s]\n",
            "100%|██████████| 1/1 [00:00<00:00,  2.60it/s]\n",
            "100%|██████████| 1/1 [00:00<00:00,  2.61it/s]\n",
            "100%|██████████| 1/1 [00:00<00:00,  2.38it/s]\n",
            "100%|██████████| 1/1 [00:00<00:00,  2.05it/s]\n",
            "100%|██████████| 1/1 [00:00<00:00,  2.08it/s]\n",
            "100%|██████████| 1/1 [00:00<00:00,  1.97it/s]\n"
          ]
        },
        {
          "output_type": "stream",
          "name": "stdout",
          "text": [
            "Inferencing with 1 started\n"
          ]
        },
        {
          "output_type": "stream",
          "name": "stderr",
          "text": [
            "100%|██████████| 1/1 [00:00<00:00,  1.99it/s]\n",
            "100%|██████████| 1/1 [00:00<00:00,  1.49it/s]\n",
            "100%|██████████| 1/1 [00:00<00:00,  1.90it/s]\n",
            "100%|██████████| 1/1 [00:00<00:00,  2.61it/s]\n",
            "100%|██████████| 1/1 [00:00<00:00,  2.49it/s]\n",
            "100%|██████████| 1/1 [00:00<00:00,  2.55it/s]\n",
            "100%|██████████| 1/1 [00:00<00:00,  2.50it/s]\n",
            "100%|██████████| 1/1 [00:00<00:00,  2.55it/s]\n",
            "100%|██████████| 1/1 [00:00<00:00,  2.54it/s]\n",
            "100%|██████████| 1/1 [00:00<00:00,  2.61it/s]\n",
            "100%|██████████| 1/1 [00:00<00:00,  2.58it/s]\n",
            "100%|██████████| 1/1 [00:00<00:00,  2.59it/s]\n"
          ]
        },
        {
          "output_type": "stream",
          "name": "stdout",
          "text": [
            "Inferencing with 2 started\n"
          ]
        },
        {
          "output_type": "stream",
          "name": "stderr",
          "text": [
            "Traceback (most recent call last):\n",
            "  File \"/usr/lib/python3.10/multiprocessing/queues.py\", line 250, in _feed\n",
            "    send_bytes(obj)\n",
            "  File \"/usr/lib/python3.10/multiprocessing/connection.py\", line 200, in send_bytes\n",
            "    self._send_bytes(m[offset:offset + size])\n",
            "  File \"/usr/lib/python3.10/multiprocessing/connection.py\", line 411, in _send_bytes\n",
            "    self._send(header + buf)\n",
            "  File \"/usr/lib/python3.10/multiprocessing/connection.py\", line 368, in _send\n",
            "    n = write(self._handle, buf)\n",
            "OSError: [Errno 9] Bad file descriptor\n",
            "Exception in thread QueueFeederThread:\n",
            "Traceback (most recent call last):\n",
            "  File \"/usr/lib/python3.10/multiprocessing/queues.py\", line 239, in _feed\n",
            "    reader_close()\n",
            "  File \"/usr/lib/python3.10/multiprocessing/connection.py\", line 177, in close\n",
            "    self._close()\n",
            "  File \"/usr/lib/python3.10/multiprocessing/connection.py\", line 361, in _close\n",
            "    _close(self._handle)\n",
            "OSError: [Errno 9] Bad file descriptor\n",
            "\n",
            "During handling of the above exception, another exception occurred:\n",
            "\n",
            "Traceback (most recent call last):\n",
            "  File \"/usr/lib/python3.10/threading.py\", line 1016, in _bootstrap_inner\n",
            "    self.run()\n",
            "  File \"/usr/lib/python3.10/threading.py\", line 953, in run\n",
            "    self._target(*self._args, **self._kwargs)\n",
            "  File \"/usr/lib/python3.10/multiprocessing/queues.py\", line 271, in _feed\n",
            "    queue_sem.release()\n",
            "ValueError: semaphore or lock released too many times\n",
            "100%|██████████| 1/1 [00:00<00:00,  2.58it/s]\n",
            "100%|██████████| 1/1 [00:00<00:00,  2.58it/s]\n",
            "100%|██████████| 1/1 [00:00<00:00,  2.45it/s]\n",
            "100%|██████████| 1/1 [00:00<00:00,  2.54it/s]\n",
            "100%|██████████| 1/1 [00:00<00:00,  2.50it/s]\n",
            "100%|██████████| 1/1 [00:00<00:00,  2.44it/s]\n",
            "100%|██████████| 1/1 [00:00<00:00,  2.06it/s]\n",
            "100%|██████████| 1/1 [00:00<00:00,  2.03it/s]\n",
            "100%|██████████| 1/1 [00:00<00:00,  2.02it/s]\n",
            "100%|██████████| 1/1 [00:00<00:00,  2.02it/s]\n",
            "100%|██████████| 1/1 [00:00<00:00,  2.10it/s]\n",
            "100%|██████████| 1/1 [00:00<00:00,  2.16it/s]\n"
          ]
        },
        {
          "output_type": "stream",
          "name": "stdout",
          "text": [
            "Inferencing with 3 started\n"
          ]
        },
        {
          "output_type": "stream",
          "name": "stderr",
          "text": [
            "100%|██████████| 1/1 [00:00<00:00,  2.58it/s]\n",
            "100%|██████████| 1/1 [00:00<00:00,  2.54it/s]\n",
            "100%|██████████| 1/1 [00:00<00:00,  2.64it/s]\n",
            "100%|██████████| 1/1 [00:00<00:00,  2.54it/s]\n",
            "100%|██████████| 1/1 [00:00<00:00,  2.67it/s]\n",
            "100%|██████████| 1/1 [00:00<00:00,  2.59it/s]\n",
            "100%|██████████| 1/1 [00:00<00:00,  2.28it/s]\n",
            "100%|██████████| 1/1 [00:00<00:00,  2.56it/s]\n",
            "100%|██████████| 1/1 [00:00<00:00,  2.53it/s]\n",
            "100%|██████████| 1/1 [00:00<00:00,  2.26it/s]\n",
            "100%|██████████| 1/1 [00:00<00:00,  2.46it/s]\n",
            "100%|██████████| 1/1 [00:00<00:00,  1.94it/s]\n"
          ]
        },
        {
          "output_type": "stream",
          "name": "stdout",
          "text": [
            "Inferencing with 4 started\n"
          ]
        },
        {
          "output_type": "stream",
          "name": "stderr",
          "text": [
            "100%|██████████| 1/1 [00:00<00:00,  2.26it/s]\n",
            "100%|██████████| 1/1 [00:00<00:00,  2.56it/s]\n",
            "100%|██████████| 1/1 [00:00<00:00,  2.49it/s]\n",
            "100%|██████████| 1/1 [00:00<00:00,  2.21it/s]\n",
            "100%|██████████| 1/1 [00:00<00:00,  2.55it/s]\n",
            "100%|██████████| 1/1 [00:00<00:00,  2.66it/s]\n",
            "100%|██████████| 1/1 [00:00<00:00,  2.34it/s]\n",
            "100%|██████████| 1/1 [00:00<00:00,  2.50it/s]\n",
            "100%|██████████| 1/1 [00:00<00:00,  2.60it/s]\n",
            "100%|██████████| 1/1 [00:00<00:00,  1.77it/s]\n",
            "100%|██████████| 1/1 [00:00<00:00,  2.25it/s]\n",
            "100%|██████████| 1/1 [00:00<00:00,  2.16it/s]\n"
          ]
        }
      ]
    },
    {
      "cell_type": "markdown",
      "source": [
        "## Submission"
      ],
      "metadata": {
        "id": "5RWX0ZUaFUB-"
      }
    },
    {
      "cell_type": "code",
      "source": [
        "test['label'] = np.argmax(tst_preds_all, axis=1)\n",
        "test['label_name'] = test['label'].replace(class_int_to_name)\n",
        "test"
      ],
      "metadata": {
        "colab": {
          "base_uri": "https://localhost:8080/",
          "height": 363
        },
        "id": "xthtjc9eFSUK",
        "outputId": "9b745f80-0878-4020-8503-076ce8fa035c"
      },
      "execution_count": 23,
      "outputs": [
        {
          "output_type": "execute_result",
          "data": {
            "text/plain": [
              "       id                                               path  label  \\\n",
              "0  1.jpeg  /content/drive/MyDrive/Vin_ML_Course/Final_Pro...      1   \n",
              "1  2.jpeg  /content/drive/MyDrive/Vin_ML_Course/Final_Pro...      1   \n",
              "2   3.png  /content/drive/MyDrive/Vin_ML_Course/Final_Pro...      2   \n",
              "3   4.jpg  /content/drive/MyDrive/Vin_ML_Course/Final_Pro...      0   \n",
              "4   5.jpg  /content/drive/MyDrive/Vin_ML_Course/Final_Pro...      3   \n",
              "5   6.jpg  /content/drive/MyDrive/Vin_ML_Course/Final_Pro...      4   \n",
              "6   7.png  /content/drive/MyDrive/Vin_ML_Course/Final_Pro...      2   \n",
              "7   8.jpg  /content/drive/MyDrive/Vin_ML_Course/Final_Pro...      3   \n",
              "8   9.jpg  /content/drive/MyDrive/Vin_ML_Course/Final_Pro...      4   \n",
              "9  10.jpg  /content/drive/MyDrive/Vin_ML_Course/Final_Pro...      0   \n",
              "\n",
              "         label_name  \n",
              "0            aphids  \n",
              "1            aphids  \n",
              "2    bacterial_wilt  \n",
              "3           healthy  \n",
              "4    black_segatoka  \n",
              "5  xanthomonas_wilt  \n",
              "6    bacterial_wilt  \n",
              "7    black_segatoka  \n",
              "8  xanthomonas_wilt  \n",
              "9           healthy  "
            ],
            "text/html": [
              "\n",
              "\n",
              "  <div id=\"df-4ca965b2-2951-4d4a-9b41-0bcd8e2ea482\">\n",
              "    <div class=\"colab-df-container\">\n",
              "      <div>\n",
              "<style scoped>\n",
              "    .dataframe tbody tr th:only-of-type {\n",
              "        vertical-align: middle;\n",
              "    }\n",
              "\n",
              "    .dataframe tbody tr th {\n",
              "        vertical-align: top;\n",
              "    }\n",
              "\n",
              "    .dataframe thead th {\n",
              "        text-align: right;\n",
              "    }\n",
              "</style>\n",
              "<table border=\"1\" class=\"dataframe\">\n",
              "  <thead>\n",
              "    <tr style=\"text-align: right;\">\n",
              "      <th></th>\n",
              "      <th>id</th>\n",
              "      <th>path</th>\n",
              "      <th>label</th>\n",
              "      <th>label_name</th>\n",
              "    </tr>\n",
              "  </thead>\n",
              "  <tbody>\n",
              "    <tr>\n",
              "      <th>0</th>\n",
              "      <td>1.jpeg</td>\n",
              "      <td>/content/drive/MyDrive/Vin_ML_Course/Final_Pro...</td>\n",
              "      <td>1</td>\n",
              "      <td>aphids</td>\n",
              "    </tr>\n",
              "    <tr>\n",
              "      <th>1</th>\n",
              "      <td>2.jpeg</td>\n",
              "      <td>/content/drive/MyDrive/Vin_ML_Course/Final_Pro...</td>\n",
              "      <td>1</td>\n",
              "      <td>aphids</td>\n",
              "    </tr>\n",
              "    <tr>\n",
              "      <th>2</th>\n",
              "      <td>3.png</td>\n",
              "      <td>/content/drive/MyDrive/Vin_ML_Course/Final_Pro...</td>\n",
              "      <td>2</td>\n",
              "      <td>bacterial_wilt</td>\n",
              "    </tr>\n",
              "    <tr>\n",
              "      <th>3</th>\n",
              "      <td>4.jpg</td>\n",
              "      <td>/content/drive/MyDrive/Vin_ML_Course/Final_Pro...</td>\n",
              "      <td>0</td>\n",
              "      <td>healthy</td>\n",
              "    </tr>\n",
              "    <tr>\n",
              "      <th>4</th>\n",
              "      <td>5.jpg</td>\n",
              "      <td>/content/drive/MyDrive/Vin_ML_Course/Final_Pro...</td>\n",
              "      <td>3</td>\n",
              "      <td>black_segatoka</td>\n",
              "    </tr>\n",
              "    <tr>\n",
              "      <th>5</th>\n",
              "      <td>6.jpg</td>\n",
              "      <td>/content/drive/MyDrive/Vin_ML_Course/Final_Pro...</td>\n",
              "      <td>4</td>\n",
              "      <td>xanthomonas_wilt</td>\n",
              "    </tr>\n",
              "    <tr>\n",
              "      <th>6</th>\n",
              "      <td>7.png</td>\n",
              "      <td>/content/drive/MyDrive/Vin_ML_Course/Final_Pro...</td>\n",
              "      <td>2</td>\n",
              "      <td>bacterial_wilt</td>\n",
              "    </tr>\n",
              "    <tr>\n",
              "      <th>7</th>\n",
              "      <td>8.jpg</td>\n",
              "      <td>/content/drive/MyDrive/Vin_ML_Course/Final_Pro...</td>\n",
              "      <td>3</td>\n",
              "      <td>black_segatoka</td>\n",
              "    </tr>\n",
              "    <tr>\n",
              "      <th>8</th>\n",
              "      <td>9.jpg</td>\n",
              "      <td>/content/drive/MyDrive/Vin_ML_Course/Final_Pro...</td>\n",
              "      <td>4</td>\n",
              "      <td>xanthomonas_wilt</td>\n",
              "    </tr>\n",
              "    <tr>\n",
              "      <th>9</th>\n",
              "      <td>10.jpg</td>\n",
              "      <td>/content/drive/MyDrive/Vin_ML_Course/Final_Pro...</td>\n",
              "      <td>0</td>\n",
              "      <td>healthy</td>\n",
              "    </tr>\n",
              "  </tbody>\n",
              "</table>\n",
              "</div>\n",
              "      <button class=\"colab-df-convert\" onclick=\"convertToInteractive('df-4ca965b2-2951-4d4a-9b41-0bcd8e2ea482')\"\n",
              "              title=\"Convert this dataframe to an interactive table.\"\n",
              "              style=\"display:none;\">\n",
              "\n",
              "  <svg xmlns=\"http://www.w3.org/2000/svg\" height=\"24px\"viewBox=\"0 0 24 24\"\n",
              "       width=\"24px\">\n",
              "    <path d=\"M0 0h24v24H0V0z\" fill=\"none\"/>\n",
              "    <path d=\"M18.56 5.44l.94 2.06.94-2.06 2.06-.94-2.06-.94-.94-2.06-.94 2.06-2.06.94zm-11 1L8.5 8.5l.94-2.06 2.06-.94-2.06-.94L8.5 2.5l-.94 2.06-2.06.94zm10 10l.94 2.06.94-2.06 2.06-.94-2.06-.94-.94-2.06-.94 2.06-2.06.94z\"/><path d=\"M17.41 7.96l-1.37-1.37c-.4-.4-.92-.59-1.43-.59-.52 0-1.04.2-1.43.59L10.3 9.45l-7.72 7.72c-.78.78-.78 2.05 0 2.83L4 21.41c.39.39.9.59 1.41.59.51 0 1.02-.2 1.41-.59l7.78-7.78 2.81-2.81c.8-.78.8-2.07 0-2.86zM5.41 20L4 18.59l7.72-7.72 1.47 1.35L5.41 20z\"/>\n",
              "  </svg>\n",
              "      </button>\n",
              "\n",
              "\n",
              "\n",
              "    <div id=\"df-94236d98-cddb-4fdb-a3a4-ebe19aeeee61\">\n",
              "      <button class=\"colab-df-quickchart\" onclick=\"quickchart('df-94236d98-cddb-4fdb-a3a4-ebe19aeeee61')\"\n",
              "              title=\"Suggest charts.\"\n",
              "              style=\"display:none;\">\n",
              "\n",
              "<svg xmlns=\"http://www.w3.org/2000/svg\" height=\"24px\"viewBox=\"0 0 24 24\"\n",
              "     width=\"24px\">\n",
              "    <g>\n",
              "        <path d=\"M19 3H5c-1.1 0-2 .9-2 2v14c0 1.1.9 2 2 2h14c1.1 0 2-.9 2-2V5c0-1.1-.9-2-2-2zM9 17H7v-7h2v7zm4 0h-2V7h2v10zm4 0h-2v-4h2v4z\"/>\n",
              "    </g>\n",
              "</svg>\n",
              "      </button>\n",
              "    </div>\n",
              "\n",
              "<style>\n",
              "  .colab-df-quickchart {\n",
              "    background-color: #E8F0FE;\n",
              "    border: none;\n",
              "    border-radius: 50%;\n",
              "    cursor: pointer;\n",
              "    display: none;\n",
              "    fill: #1967D2;\n",
              "    height: 32px;\n",
              "    padding: 0 0 0 0;\n",
              "    width: 32px;\n",
              "  }\n",
              "\n",
              "  .colab-df-quickchart:hover {\n",
              "    background-color: #E2EBFA;\n",
              "    box-shadow: 0px 1px 2px rgba(60, 64, 67, 0.3), 0px 1px 3px 1px rgba(60, 64, 67, 0.15);\n",
              "    fill: #174EA6;\n",
              "  }\n",
              "\n",
              "  [theme=dark] .colab-df-quickchart {\n",
              "    background-color: #3B4455;\n",
              "    fill: #D2E3FC;\n",
              "  }\n",
              "\n",
              "  [theme=dark] .colab-df-quickchart:hover {\n",
              "    background-color: #434B5C;\n",
              "    box-shadow: 0px 1px 3px 1px rgba(0, 0, 0, 0.15);\n",
              "    filter: drop-shadow(0px 1px 2px rgba(0, 0, 0, 0.3));\n",
              "    fill: #FFFFFF;\n",
              "  }\n",
              "</style>\n",
              "\n",
              "    <script>\n",
              "      async function quickchart(key) {\n",
              "        const containerElement = document.querySelector('#' + key);\n",
              "        const charts = await google.colab.kernel.invokeFunction(\n",
              "            'suggestCharts', [key], {});\n",
              "      }\n",
              "    </script>\n",
              "\n",
              "      <script>\n",
              "\n",
              "function displayQuickchartButton(domScope) {\n",
              "  let quickchartButtonEl =\n",
              "    domScope.querySelector('#df-94236d98-cddb-4fdb-a3a4-ebe19aeeee61 button.colab-df-quickchart');\n",
              "  quickchartButtonEl.style.display =\n",
              "    google.colab.kernel.accessAllowed ? 'block' : 'none';\n",
              "}\n",
              "\n",
              "        displayQuickchartButton(document);\n",
              "      </script>\n",
              "      <style>\n",
              "    .colab-df-container {\n",
              "      display:flex;\n",
              "      flex-wrap:wrap;\n",
              "      gap: 12px;\n",
              "    }\n",
              "\n",
              "    .colab-df-convert {\n",
              "      background-color: #E8F0FE;\n",
              "      border: none;\n",
              "      border-radius: 50%;\n",
              "      cursor: pointer;\n",
              "      display: none;\n",
              "      fill: #1967D2;\n",
              "      height: 32px;\n",
              "      padding: 0 0 0 0;\n",
              "      width: 32px;\n",
              "    }\n",
              "\n",
              "    .colab-df-convert:hover {\n",
              "      background-color: #E2EBFA;\n",
              "      box-shadow: 0px 1px 2px rgba(60, 64, 67, 0.3), 0px 1px 3px 1px rgba(60, 64, 67, 0.15);\n",
              "      fill: #174EA6;\n",
              "    }\n",
              "\n",
              "    [theme=dark] .colab-df-convert {\n",
              "      background-color: #3B4455;\n",
              "      fill: #D2E3FC;\n",
              "    }\n",
              "\n",
              "    [theme=dark] .colab-df-convert:hover {\n",
              "      background-color: #434B5C;\n",
              "      box-shadow: 0px 1px 3px 1px rgba(0, 0, 0, 0.15);\n",
              "      filter: drop-shadow(0px 1px 2px rgba(0, 0, 0, 0.3));\n",
              "      fill: #FFFFFF;\n",
              "    }\n",
              "  </style>\n",
              "\n",
              "      <script>\n",
              "        const buttonEl =\n",
              "          document.querySelector('#df-4ca965b2-2951-4d4a-9b41-0bcd8e2ea482 button.colab-df-convert');\n",
              "        buttonEl.style.display =\n",
              "          google.colab.kernel.accessAllowed ? 'block' : 'none';\n",
              "\n",
              "        async function convertToInteractive(key) {\n",
              "          const element = document.querySelector('#df-4ca965b2-2951-4d4a-9b41-0bcd8e2ea482');\n",
              "          const dataTable =\n",
              "            await google.colab.kernel.invokeFunction('convertToInteractive',\n",
              "                                                     [key], {});\n",
              "          if (!dataTable) return;\n",
              "\n",
              "          const docLinkHtml = 'Like what you see? Visit the ' +\n",
              "            '<a target=\"_blank\" href=https://colab.research.google.com/notebooks/data_table.ipynb>data table notebook</a>'\n",
              "            + ' to learn more about interactive tables.';\n",
              "          element.innerHTML = '';\n",
              "          dataTable['output_type'] = 'display_data';\n",
              "          await google.colab.output.renderOutput(dataTable, element);\n",
              "          const docLink = document.createElement('div');\n",
              "          docLink.innerHTML = docLinkHtml;\n",
              "          element.appendChild(docLink);\n",
              "        }\n",
              "      </script>\n",
              "    </div>\n",
              "  </div>\n"
            ]
          },
          "metadata": {},
          "execution_count": 23
        }
      ]
    }
  ]
}